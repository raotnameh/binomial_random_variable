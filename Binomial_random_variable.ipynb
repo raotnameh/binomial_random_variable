{
 "cells": [
  {
   "cell_type": "code",
   "execution_count": 1,
   "metadata": {},
   "outputs": [],
   "source": [
    "import numpy as np\n",
    "import matplotlib.pyplot as plt"
   ]
  },
  {
   "cell_type": "code",
   "execution_count": 118,
   "metadata": {},
   "outputs": [],
   "source": [
    "p = 0.5 # P is the probability of choosing Tail\n",
    "out = [] # list of possible sequence after 9 tosses for num numbers\n",
    "num_tosses = 12\n",
    "episodes = 100000 # number of times to repeat the experiment\n",
    "for j in range(episodes):\n",
    "    m = ''\n",
    "    for i in range(num_tosses):\n",
    "        a = np.random.choice(np.arange(0,2), p=[p,1-p]) # 0 = tail\n",
    "        m = m + str(a)\n",
    "    out.append(m)"
   ]
  },
  {
   "cell_type": "markdown",
   "metadata": {},
   "source": [
    "# Creating the dict for distinct sequence\n",
    "\n",
    "like for num_tosses = 2\n",
    "dic = ['01', '00', '10', '11']"
   ]
  },
  {
   "cell_type": "code",
   "execution_count": 119,
   "metadata": {},
   "outputs": [],
   "source": [
    "dic = {}\n",
    "for i in out:\n",
    "    if i not in dic.keys():\n",
    "        dic[i] = 1\n",
    "    else:\n",
    "        dic[i] += 1"
   ]
  },
  {
   "cell_type": "code",
   "execution_count": 120,
   "metadata": {},
   "outputs": [],
   "source": [
    "def bac(p): # return number of heads \n",
    "    num = 0\n",
    "    for i in p:\n",
    "        num += int(i)\n",
    "    return num"
   ]
  },
  {
   "cell_type": "markdown",
   "metadata": {},
   "source": [
    "# out is a dict with key value pair as number of heads and the corresponding frequency"
   ]
  },
  {
   "cell_type": "code",
   "execution_count": 121,
   "metadata": {},
   "outputs": [],
   "source": [
    "out = {}\n",
    "for i,j in dic.items():\n",
    "    if str(bac(i)) not in out.keys():\n",
    "        out[str(bac(i))] = j\n",
    "        \n",
    "    else: out[str(bac(i))] += j"
   ]
  },
  {
   "cell_type": "code",
   "execution_count": 122,
   "metadata": {},
   "outputs": [],
   "source": [
    "out = dict((v,int(k)) for k,v in out.items())\n",
    "out = dict((v,k) for k,v in out.items())"
   ]
  },
  {
   "cell_type": "markdown",
   "metadata": {},
   "source": [
    "# X = number of head\n",
    "# Height = probability of that sequence"
   ]
  },
  {
   "cell_type": "code",
   "execution_count": 123,
   "metadata": {},
   "outputs": [],
   "source": [
    "x = []\n",
    "height = []\n",
    "for i,j in sorted(out.items()):\n",
    "    x.append(i) \n",
    "    height.append(j/episodes)\n"
   ]
  },
  {
   "cell_type": "code",
   "execution_count": 124,
   "metadata": {},
   "outputs": [
    {
     "data": {
      "image/png": "[encoded data removed]",
      "text/plain": [
       "<Figure size 432x288 with 1 Axes>"
      ]
     },
     "metadata": {
      "needs_background": "light"
     },
     "output_type": "display_data"
    }
   ],
   "source": [
    "plt.bar(x, height, width=0.5, align='center')\n",
    "plt.xticks(x)\n",
    "plt.ylabel('probability')\n",
    "plt.title('num_of_heads')\n",
    "plt.show()"
   ]
  },
  {
   "cell_type": "code",
   "execution_count": null,
   "metadata": {},
   "outputs": [],
   "source": []
  }
 ],
 "metadata": {
  "kernelspec": {
   "display_name": "Python 3",
   "language": "python",
   "name": "python3"
  },
  "language_info": {
   "codemirror_mode": {
    "name": "ipython",
    "version": 3
   },
   "file_extension": ".py",
   "mimetype": "text/x-python",
   "name": "python",
   "nbconvert_exporter": "python",
   "pygments_lexer": "ipython3",
   "version": "3.6.3"
  }
 },
 "nbformat": 4,
 "nbformat_minor": 2
}
